{
  "nbformat": 4,
  "nbformat_minor": 0,
  "metadata": {
    "colab": {
      "provenance": []
    },
    "kernelspec": {
      "name": "python3",
      "display_name": "Python 3"
    },
    "language_info": {
      "name": "python"
    }
  },
  "cells": [
    {
      "cell_type": "code",
      "execution_count": 14,
      "metadata": {
        "colab": {
          "base_uri": "https://localhost:8080/"
        },
        "id": "5A3DR9v-hTGp",
        "outputId": "4500629a-3eed-47d0-f533-e53007695a6b"
      },
      "outputs": [
        {
          "output_type": "stream",
          "name": "stdout",
          "text": [
            "Hello Welcome to vistara Airlines: \n",
            " \n",
            "\n",
            "Hello Mr.Ram , Your seat number is 350998 \n",
            "\n",
            "Hello Mr.shivansh , Your seat number is 345008 \n",
            "\n",
            "Hello Mr.Abhimanyu , Your seat number is 345998 \n",
            "\n",
            "Happy journey\n"
          ]
        }
      ],
      "source": [
        "# ---------------------------------Assignment 3--------------------------------\n",
        "#-----------------------String Template class------------------------------------- \n",
        "\n",
        "# tamplate class allows us to to create simplified syntax for output specified\n",
        "#the format uses placeholder name formed by $ with valid pythone identifiers\n",
        "# The pythone string tamplate is created by passing the tamplate string to its constructor\n",
        "#It supports $-based substitutions,This class has two key methods\n",
        "# Writing $$ creates a single escaped $\n",
        "# Surrounding the placeholder with braces allows it to be followed by more alphanumeric letters with no intervening spaces. \n",
        "\n",
        "\n",
        "# -------------------------------Example--------------------------------\n",
        "from string import Template\n",
        "\n",
        "passanger = [('Ram',350998),('shivansh',345008),('Abhimanyu',345998)]\n",
        "\n",
        "t = Template('Hello Mr.$name , Your seat number is $seat \\n')\n",
        "print(\"Hello Welcome to vistara Airlines: \\n \\n\")\n",
        "for i in passanger:\n",
        "  print(t.substitute(name = i[0], seat = i[1]))\n",
        "print(\"Happy journey\")\n"
      ]
    }
  ]
}
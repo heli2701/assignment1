{
  "nbformat": 4,
  "nbformat_minor": 0,
  "metadata": {
    "colab": {
      "provenance": []
    },
    "kernelspec": {
      "name": "python3",
      "display_name": "Python 3"
    },
    "language_info": {
      "name": "python"
    }
  },
  "cells": [
    {
      "cell_type": "code",
      "execution_count": 30,
      "metadata": {
        "id": "pmaEdHBEvou6"
      },
      "outputs": [],
      "source": [
        "# ------------------assignment 2--------------------------\n",
        "# W+ R+ A+\n",
        "\n",
        "# ----------------------R+--------------------------------\n",
        "# R means reading \n",
        "# The R+ adds Writing files to the existing r mode \n",
        "# In r mode if we write the file python throws error\n",
        "# In R+ mode we can read and write the file\n",
        "# It opens the file for reading and writing mode and placeing the file pointer at the begining of the file\n",
        "# --------------------------- example ----------------------------\n",
        "\n",
        "\n",
        "with open(\"r.txt\",\"r+\") as f:\n",
        "  f.write(\"new line \\n\")\n",
        "\n",
        "\n",
        "\n",
        "\n",
        "\n"
      ]
    },
    {
      "cell_type": "code",
      "source": [
        "# -----------------------------W+------------------------\n",
        "# w means writing\n",
        "#The W+ adds reading file to the existing w mode \n",
        "#It opens a file in read and write mode\n",
        "#It creates a new file if it does not exist \n",
        "# it erases the privious content of file \n",
        "#  the text is overwritten and deleted from existing file\n",
        "#--------------------example---------------------\n",
        "\n",
        "with open ('r.txt',\"w+\") as f :\n",
        "  f.write(\"textbook\\n\")\n",
        "  f.write(\"Bags\\n\")\n",
        "  f.write(\"google\\n\")\n",
        "  \n",
        "  f.seek(0)\n",
        "  lines=f.read()\n",
        "  print(lines)\n",
        "\n",
        "\n",
        "\n",
        "\n"
      ],
      "metadata": {
        "colab": {
          "base_uri": "https://localhost:8080/"
        },
        "id": "zRrjplzNdjt7",
        "outputId": "83bbc1aa-4ad7-4103-d092-6dfc5effb975"
      },
      "execution_count": 31,
      "outputs": [
        {
          "output_type": "stream",
          "name": "stdout",
          "text": [
            "textbook\n",
            "Bags\n",
            "google\n",
            "\n"
          ]
        }
      ]
    },
    {
      "cell_type": "code",
      "source": [
        "#--------------------------------A+--------------------------------\n",
        "# A means Append mode\n",
        "# Open a file for reading and writing with A+\n",
        "# Counts the number of lines.\n",
        "# it append the result to the file \n",
        "# A+ adds reading file to the existing a mode\n",
        "#---------------------example------------------------------------\n",
        "\n",
        "\n",
        "with open ('r.txt',\"a+\") as f:\n",
        "  f.write(\"hello Tony stark\")\n",
        "  f.seek(0)\n",
        "  lines=f.readlines()\n",
        "  f.write(\"\\n\" + str(len(lines)))\n",
        "\n",
        "\n",
        "\n",
        "\n"
      ],
      "metadata": {
        "id": "Q7uh0hsUfQ7k"
      },
      "execution_count": 32,
      "outputs": []
    }
  ]
}
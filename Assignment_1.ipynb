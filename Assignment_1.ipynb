{
  "nbformat": 4,
  "nbformat_minor": 0,
  "metadata": {
    "colab": {
      "provenance": []
    },
    "kernelspec": {
      "name": "python3",
      "display_name": "Python 3"
    },
    "language_info": {
      "name": "python"
    }
  },
  "cells": [
    {
      "cell_type": "code",
      "execution_count": null,
      "metadata": {
        "colab": {
          "base_uri": "https://localhost:8080/"
        },
        "id": "hijm0yV6fVxo",
        "outputId": "ce35e902-452f-417e-e98a-f7e5beeabc04"
      },
      "outputs": [
        {
          "output_type": "stream",
          "name": "stdout",
          "text": [
            "Your Travel Destinations are ['manali', 'kerela', 'goa', 'maldives', 'Dubai', 'hong kong', 'Paris']\n",
            " \n",
            "your travel destinations are as under : \n",
            "manali\n",
            "kerela\n",
            "goa\n",
            "maldives\n",
            "Dubai\n",
            "hong kong\n",
            "Paris\n",
            "Your Updated Travel Destinatins list are ['manali', 'kerela', 'goa', 'maldives', 'Swtzerland', 'hong kong', 'Paris']\n"
          ]
        }
      ],
      "source": [
        "#-------------------- Assignment 1------------------------------------------------------\n",
        "# examples of collective data types in pythone\n",
        "# -------------------list------------------------------\n",
        "# -----------------example 1---------------------------\n",
        "tralist=[\"manali\",\"kerela\",\"goa\",\"maldives\",\"Dubai\",\"hong kong\",\"Paris\"]\n",
        "print(\"Your Travel Destinations are\",tralist)\n",
        "print(\" \")\n",
        "# print from indax value\n",
        "print(\"your travel destinations are as under : \")\n",
        "print(tralist[0])\n",
        "print(tralist[1])\n",
        "print(tralist[2])\n",
        "print(tralist[3])\n",
        "print(tralist[4])\n",
        "print(tralist[5])\n",
        "print(tralist[6])\n",
        "# Update \n",
        "tralist[-3]=\"Swtzerland\"\n",
        "print(\"Your Updated Travel Destinatins list are\",tralist)\n",
        "\n"
      ]
    },
    {
      "cell_type": "code",
      "source": [
        "# ----------------list-----------------\n",
        "# ---------------------------example 2------------------\n",
        "implist=[\"Java\",\"C++\",\"C\",\"Python\",\"CSS\",\"Java Script\",\"Ruby\"]\n",
        "print(\"Important Languages of Prgramming are : \",implist)\n",
        "print(\"  \")\n",
        "# print from indax value \n",
        "print(\"important Programming languages are : \")\n",
        "print(implist[0])\n",
        "print(implist[1])\n",
        "print(implist[2])\n",
        "print(implist[3])\n",
        "print(implist[4])\n",
        "print(implist[5])\n",
        "print(implist[6])\n",
        "\n",
        "# Update\n",
        "implist[4]=\"HTML\"\n",
        "print(\"Updated important Programmin languages are:\",implist)\n"
      ],
      "metadata": {
        "colab": {
          "base_uri": "https://localhost:8080/"
        },
        "id": "jy9gXlKkkxBq",
        "outputId": "80cdcc80-1599-4030-88b0-55a91dd04e8c"
      },
      "execution_count": null,
      "outputs": [
        {
          "output_type": "stream",
          "name": "stdout",
          "text": [
            "Important Languages of Prgramming are :  ['Java', 'C++', 'C', 'Python', 'CSS', 'Java Script', 'Ruby']\n",
            "  \n",
            "important Programming languages are : \n",
            "Java\n",
            "C++\n",
            "C\n",
            "Python\n",
            "CSS\n",
            "Java Script\n",
            "Ruby\n",
            "Updated important Programmin languages are: ['Java', 'C++', 'C', 'Python', 'HTML', 'Java Script', 'Ruby']\n"
          ]
        }
      ]
    },
    {
      "cell_type": "code",
      "source": [
        "# --------------------tuple-----------------------\n",
        "# ------------example 1--------------\n",
        "\n",
        "fettuple=(\"Iphone14 pro MAX\",\"Dynamic iceland\",\"better video quality\",\"longest bettry life\",\"256 GB\",\"Aluminium Glass\",\"Dual camera system\")\n",
        "print(fettuple)\n",
        "print(\"  \")\n",
        "#print from indax value \n",
        "print(\"Features of new IPHONE 14 pro is : \")\n",
        "print(fettuple[0])\n",
        "print(fettuple[1])\n",
        "print(fettuple[2])\n",
        "print(fettuple[3])\n",
        "print(fettuple[4])\n",
        "print(fettuple[5])\n",
        "print(fettuple[6])"
      ],
      "metadata": {
        "colab": {
          "base_uri": "https://localhost:8080/"
        },
        "id": "mvv2QTInqtBh",
        "outputId": "96ebb6ad-4304-4149-85e2-d0412ba87c11"
      },
      "execution_count": null,
      "outputs": [
        {
          "output_type": "stream",
          "name": "stdout",
          "text": [
            "('Iphone14 pro MAX', 'Dynamic iceland', 'better video quality', 'longest bettry life', '256 GB', 'Aluminium Glass', 'Dual camera system')\n",
            "  \n",
            "Features of new IPHONE 14 pro is : \n",
            "Iphone14 pro MAX\n",
            "Dynamic iceland\n",
            "better video quality\n",
            "longest bettry life\n",
            "256 GB\n",
            "Aluminium Glass\n",
            "Dual camera system\n"
          ]
        }
      ]
    },
    {
      "cell_type": "code",
      "source": [
        "# -----------------------------tuple-------------\n",
        "# --------------example 2----------------------\n",
        "\n",
        "protuple=(\"HomePod\",\"Iphone\",\"Apple Watch\",\"Ipad\",\"iMac\",\"mac book\",\"apple TV\",\"AirPods\")\n",
        "print(protuple)\n",
        "print(\"  \")\n",
        "#print from indax value \n",
        "print(\"Here is some Apple Products : \")\n",
        "print(protuple[0])\n",
        "print(protuple[1])\n",
        "print(protuple[2])\n",
        "print(protuple[3])\n",
        "print(protuple[4])\n",
        "print(protuple[5])\n",
        "print(protuple[6])"
      ],
      "metadata": {
        "colab": {
          "base_uri": "https://localhost:8080/"
        },
        "outputId": "18fa1850-8b85-4023-9316-5cf60e573d56",
        "id": "Eqg4DlXxz4aT"
      },
      "execution_count": null,
      "outputs": [
        {
          "output_type": "stream",
          "name": "stdout",
          "text": [
            "('HomePod', 'Iphone', 'Apple Watch', 'Ipad', 'iMac', 'mac book', 'apple TV', 'AirPods')\n",
            "  \n",
            "Here is some Apple Products : \n",
            "HomePod\n",
            "Iphone\n",
            "Apple Watch\n",
            "Ipad\n",
            "iMac\n",
            "mac book\n",
            "apple TV\n"
          ]
        }
      ]
    },
    {
      "cell_type": "code",
      "source": [
        "#------------------Dictionary---------------------\n",
        "#-----------------example 1---------------------\n",
        "indic={\"Course\":\"Python\",\n",
        "       \"Fees\":\"5000\",\n",
        "       \"Batch\":\"January\",\n",
        "       \"mode\":\"Online\",\n",
        "       \"class\":\"live\"}\n",
        "print(indic)\n",
        "\n",
        "# Update\n",
        "indic[\"Course\"]=\"Data Science\",\"Python\"\n",
        "print(\"The values After Updating are: \" ,indic)"
      ],
      "metadata": {
        "colab": {
          "base_uri": "https://localhost:8080/"
        },
        "id": "KurTxEhd1rNs",
        "outputId": "f5ad98c8-86d6-4e22-bb54-0c82cc5d518e"
      },
      "execution_count": null,
      "outputs": [
        {
          "output_type": "stream",
          "name": "stdout",
          "text": [
            "{'Course': 'Python', 'Fees': '5000', 'Batch': 'January', 'mode': 'Online', 'class': 'live'}\n",
            "The values After Updating are:  {'Course': ('Data Science', 'Python'), 'Fees': '5000', 'Batch': 'January', 'mode': 'Online', 'class': 'live'}\n"
          ]
        }
      ]
    },
    {
      "cell_type": "code",
      "source": [
        "#------------------Dictionary---------------------\n",
        "#-----------------example 2---------------------\n",
        "capital_dic={\"Gujarat\":\"Gandhinagar\",\n",
        "       \"Nepal\":\"kathmandu\",\n",
        "       \"Maharastra\":\"Mumbai\",\n",
        "       \"Goa\":\"Panji\",\n",
        "       \"Rajasthan\":\"jaipur\"}\n",
        "print(capital_dic)\n",
        "print(capital_dic[\"Goa\"])\n",
        "print(capital_dic[\"Maharastra\"])"
      ],
      "metadata": {
        "colab": {
          "base_uri": "https://localhost:8080/"
        },
        "outputId": "9d66a63a-acad-45d7-b83d-0e83d9124b6a",
        "id": "lhVUe7cd6iWr"
      },
      "execution_count": null,
      "outputs": [
        {
          "output_type": "stream",
          "name": "stdout",
          "text": [
            "{'Gujarat': 'Gandhinagar', 'Nepal': 'kathmandu', 'Maharastra': 'Mumbai', 'Goa': 'Panji', 'Rajasthan': 'jaipur'}\n",
            "Panji\n",
            "Mumbai\n"
          ]
        }
      ]
    },
    {
      "cell_type": "code",
      "source": [
        "# ----------------set-------------------\n",
        "#--------------------example 1--------------\n",
        "set1={2,4,6,8,10,12,14,16,18,19}\n",
        "set2={1,3,5,7,9,11,13,14,15,17,18,19}\n",
        "print(\"Union of set is :\")\n",
        "set3=set1.union(set2)\n",
        "print(set3)\n",
        "print(\"Intersection of set is :\")\n",
        "set4=set1.intersection(set2)\n",
        "print(set4)"
      ],
      "metadata": {
        "id": "_M--jdbK61Cl",
        "colab": {
          "base_uri": "https://localhost:8080/"
        },
        "outputId": "923bec5e-8f10-4466-aba8-46d8de9a2d29"
      },
      "execution_count": null,
      "outputs": [
        {
          "output_type": "stream",
          "name": "stdout",
          "text": [
            "Union of set is :\n",
            "{1, 2, 3, 4, 5, 6, 7, 8, 9, 10, 11, 12, 13, 14, 15, 16, 17, 18, 19}\n",
            "Intersection of set is :\n",
            "{18, 19, 14}\n"
          ]
        }
      ]
    },
    {
      "cell_type": "code",
      "source": [
        "#----------------set---------------------\n",
        "#---------------example 2------------------\n",
        "task1_set={\"Assignment\",\"Homework\",\"work\",\"cleaning\",\"Exerciseing\",\"travelling\",True}\n",
        "place1_set={\"home\",\"GYM\",\"Collage\",\"Food Zone\",False}\n",
        "time_set={12.30,5.45,2.30,4.30,6.45,7.15}\n",
        "print(task1_set)\n",
        "print(place1_set)\n",
        "print(time_set)"
      ],
      "metadata": {
        "colab": {
          "base_uri": "https://localhost:8080/"
        },
        "id": "6qu9V4jnyKgd",
        "outputId": "82954898-3cde-4123-9cce-20ee9ce1eaf3"
      },
      "execution_count": null,
      "outputs": [
        {
          "output_type": "stream",
          "name": "stdout",
          "text": [
            "{'cleaning', True, 'travelling', 'Exerciseing', 'Homework', 'work', 'Assignment'}\n",
            "{False, 'Collage', 'GYM', 'Food Zone', 'home'}\n",
            "{2.3, 4.3, 5.45, 6.45, 7.15, 12.3}\n"
          ]
        }
      ]
    }
  ]
}